{
 "cells": [
  {
   "cell_type": "code",
   "execution_count": 205,
   "metadata": {},
   "outputs": [],
   "source": [
    "import pandas as pd\n",
    "from sklearn.cluster import KMeans, MiniBatchKMeans\n",
    "from sklearn.feature_extraction.text import TfidfVectorizer\n",
    "import numpy as np\n",
    "tv_movie_data = pd.read_csv(\"oneHotData.csv\", converters={'desc_tokenized': eval, 'actor_tokenized': eval})\n",
    "tv_movie_data.shape\n",
    "N_CLUSTERS = 100"
   ]
  },
  {
   "cell_type": "code",
   "execution_count": 206,
   "metadata": {},
   "outputs": [
    {
     "name": "stdout",
     "output_type": "stream",
     "text": [
      "Requirement already satisfied: nltk in c:\\users\\chunhao\\anaconda3\\lib\\site-packages (3.5)\n",
      "Requirement already satisfied: tqdm in c:\\users\\chunhao\\anaconda3\\lib\\site-packages (from nltk) (4.47.0)\n",
      "Requirement already satisfied: joblib in c:\\users\\chunhao\\anaconda3\\lib\\site-packages (from nltk) (0.16.0)\n",
      "Requirement already satisfied: click in c:\\users\\chunhao\\anaconda3\\lib\\site-packages (from nltk) (7.1.2)\n",
      "Requirement already satisfied: regex in c:\\users\\chunhao\\anaconda3\\lib\\site-packages (from nltk) (2020.6.8)\n",
      "Note: you may need to restart the kernel to use updated packages.\n"
     ]
    },
    {
     "name": "stderr",
     "output_type": "stream",
     "text": [
      "[nltk_data] Downloading package stopwords to\n",
      "[nltk_data]     C:\\Users\\Chunhao\\AppData\\Roaming\\nltk_data...\n",
      "[nltk_data]   Package stopwords is already up-to-date!\n",
      "[nltk_data] Downloading package punkt to\n",
      "[nltk_data]     C:\\Users\\Chunhao\\AppData\\Roaming\\nltk_data...\n",
      "[nltk_data]   Package punkt is already up-to-date!\n",
      "[nltk_data] Downloading package wordnet to\n",
      "[nltk_data]     C:\\Users\\Chunhao\\AppData\\Roaming\\nltk_data...\n",
      "[nltk_data]   Package wordnet is already up-to-date!\n"
     ]
    }
   ],
   "source": [
    "%pip install nltk\n",
    "import nltk\n",
    "nltk.download('stopwords')\n",
    "nltk.download('punkt')\n",
    "nltk.download('wordnet')\n",
    "from nltk.stem import *"
   ]
  },
  {
   "cell_type": "code",
   "execution_count": 207,
   "metadata": {},
   "outputs": [],
   "source": [
    "from nltk.corpus import stopwords  \n",
    "from nltk.tokenize import word_tokenize  \n",
    "from ast import literal_eval\n",
    "  \n",
    "example_sent = \"\"\"This is a sample sentence, \n",
    "                  showing off the stop words filtration.\"\"\"\n",
    "  \n",
    "stop_words = set(stopwords.words('english'))\n",
    "stemmer = PorterStemmer()\n",
    "def superclean(x):\n",
    "    x = [i.lower() for i in x]\n",
    "    x = [stemmer.stem(i) for i in x]\n",
    "    x = [i for i in x if i not in stop_words]\n",
    "    x = [i for i in x if any(c.isalpha() for c in i)]\n",
    "    return x\n",
    "tv_movie_data['desc_tokenized'] = tv_movie_data['desc_tokenized'].apply(superclean)\n",
    "tv_movie_data['actor_tokenized'] = tv_movie_data['actor_tokenized'].apply(superclean)\n",
    "tv_movie_data.to_csv('new.csv')"
   ]
  },
  {
   "cell_type": "code",
   "execution_count": 210,
   "metadata": {},
   "outputs": [
    {
     "data": {
      "text/plain": [
       "53109"
      ]
     },
     "execution_count": 210,
     "metadata": {},
     "output_type": "execute_result"
    }
   ],
   "source": [
    "tv_movie_data = pd.read_csv(\"new.csv\")\n",
    "sub = tv_movie_data\n",
    "# vectorizer = TfidfVectorizer()\n",
    "# X = vectorizer.fit_transform(sub['actor_tokenized'])\n",
    "vectorizer2 = TfidfVectorizer()\n",
    "X2 = vectorizer2.fit_transform(sub['desc_tokenized'])\n",
    "len(vectorizer2.get_feature_names())"
   ]
  },
  {
   "cell_type": "code",
   "execution_count": 211,
   "metadata": {},
   "outputs": [
    {
     "name": "stdout",
     "output_type": "stream",
     "text": [
      "(82086, 1000)\n"
     ]
    },
    {
     "data": {
      "text/html": [
       "<div>\n",
       "<style scoped>\n",
       "    .dataframe tbody tr th:only-of-type {\n",
       "        vertical-align: middle;\n",
       "    }\n",
       "\n",
       "    .dataframe tbody tr th {\n",
       "        vertical-align: top;\n",
       "    }\n",
       "\n",
       "    .dataframe thead th {\n",
       "        text-align: right;\n",
       "    }\n",
       "</style>\n",
       "<table border=\"1\" class=\"dataframe\">\n",
       "  <thead>\n",
       "    <tr style=\"text-align: right;\">\n",
       "      <th></th>\n",
       "      <th>d_0</th>\n",
       "      <th>d_1</th>\n",
       "      <th>d_2</th>\n",
       "      <th>d_3</th>\n",
       "      <th>d_4</th>\n",
       "      <th>d_5</th>\n",
       "      <th>d_6</th>\n",
       "      <th>d_7</th>\n",
       "      <th>d_8</th>\n",
       "      <th>d_9</th>\n",
       "      <th>...</th>\n",
       "      <th>d_990</th>\n",
       "      <th>d_991</th>\n",
       "      <th>d_992</th>\n",
       "      <th>d_993</th>\n",
       "      <th>d_994</th>\n",
       "      <th>d_995</th>\n",
       "      <th>d_996</th>\n",
       "      <th>d_997</th>\n",
       "      <th>d_998</th>\n",
       "      <th>d_999</th>\n",
       "    </tr>\n",
       "  </thead>\n",
       "  <tbody>\n",
       "    <tr>\n",
       "      <th>0</th>\n",
       "      <td>0.0</td>\n",
       "      <td>0.0</td>\n",
       "      <td>0.0</td>\n",
       "      <td>0.0</td>\n",
       "      <td>0.0</td>\n",
       "      <td>0.0</td>\n",
       "      <td>0.0</td>\n",
       "      <td>0.0</td>\n",
       "      <td>0.0</td>\n",
       "      <td>0.0</td>\n",
       "      <td>...</td>\n",
       "      <td>0.0</td>\n",
       "      <td>0.0</td>\n",
       "      <td>0.0</td>\n",
       "      <td>0.0</td>\n",
       "      <td>0.0</td>\n",
       "      <td>0.0</td>\n",
       "      <td>0.0</td>\n",
       "      <td>0.0</td>\n",
       "      <td>0.0</td>\n",
       "      <td>0.0</td>\n",
       "    </tr>\n",
       "    <tr>\n",
       "      <th>1</th>\n",
       "      <td>0.0</td>\n",
       "      <td>0.0</td>\n",
       "      <td>0.0</td>\n",
       "      <td>0.0</td>\n",
       "      <td>0.0</td>\n",
       "      <td>0.0</td>\n",
       "      <td>0.0</td>\n",
       "      <td>0.0</td>\n",
       "      <td>0.0</td>\n",
       "      <td>0.0</td>\n",
       "      <td>...</td>\n",
       "      <td>0.0</td>\n",
       "      <td>0.0</td>\n",
       "      <td>0.0</td>\n",
       "      <td>0.0</td>\n",
       "      <td>0.0</td>\n",
       "      <td>0.0</td>\n",
       "      <td>0.0</td>\n",
       "      <td>0.0</td>\n",
       "      <td>0.0</td>\n",
       "      <td>0.0</td>\n",
       "    </tr>\n",
       "    <tr>\n",
       "      <th>2</th>\n",
       "      <td>0.0</td>\n",
       "      <td>0.0</td>\n",
       "      <td>0.0</td>\n",
       "      <td>0.0</td>\n",
       "      <td>0.0</td>\n",
       "      <td>0.0</td>\n",
       "      <td>0.0</td>\n",
       "      <td>0.0</td>\n",
       "      <td>0.0</td>\n",
       "      <td>0.0</td>\n",
       "      <td>...</td>\n",
       "      <td>0.0</td>\n",
       "      <td>0.0</td>\n",
       "      <td>0.0</td>\n",
       "      <td>0.0</td>\n",
       "      <td>0.0</td>\n",
       "      <td>0.0</td>\n",
       "      <td>0.0</td>\n",
       "      <td>0.0</td>\n",
       "      <td>0.0</td>\n",
       "      <td>0.0</td>\n",
       "    </tr>\n",
       "    <tr>\n",
       "      <th>3</th>\n",
       "      <td>0.0</td>\n",
       "      <td>0.0</td>\n",
       "      <td>0.0</td>\n",
       "      <td>0.0</td>\n",
       "      <td>0.0</td>\n",
       "      <td>0.0</td>\n",
       "      <td>0.0</td>\n",
       "      <td>0.0</td>\n",
       "      <td>0.0</td>\n",
       "      <td>0.0</td>\n",
       "      <td>...</td>\n",
       "      <td>0.0</td>\n",
       "      <td>0.0</td>\n",
       "      <td>0.0</td>\n",
       "      <td>0.0</td>\n",
       "      <td>0.0</td>\n",
       "      <td>0.0</td>\n",
       "      <td>0.0</td>\n",
       "      <td>0.0</td>\n",
       "      <td>0.0</td>\n",
       "      <td>0.0</td>\n",
       "    </tr>\n",
       "    <tr>\n",
       "      <th>4</th>\n",
       "      <td>0.0</td>\n",
       "      <td>0.0</td>\n",
       "      <td>0.0</td>\n",
       "      <td>0.0</td>\n",
       "      <td>0.0</td>\n",
       "      <td>0.0</td>\n",
       "      <td>0.0</td>\n",
       "      <td>0.0</td>\n",
       "      <td>0.0</td>\n",
       "      <td>0.0</td>\n",
       "      <td>...</td>\n",
       "      <td>0.0</td>\n",
       "      <td>0.0</td>\n",
       "      <td>0.0</td>\n",
       "      <td>0.0</td>\n",
       "      <td>0.0</td>\n",
       "      <td>0.0</td>\n",
       "      <td>0.0</td>\n",
       "      <td>0.0</td>\n",
       "      <td>0.0</td>\n",
       "      <td>0.0</td>\n",
       "    </tr>\n",
       "  </tbody>\n",
       "</table>\n",
       "<p>5 rows × 1000 columns</p>\n",
       "</div>"
      ],
      "text/plain": [
       "   d_0  d_1  d_2  d_3  d_4  d_5  d_6  d_7  d_8  d_9  ...  d_990  d_991  d_992  \\\n",
       "0  0.0  0.0  0.0  0.0  0.0  0.0  0.0  0.0  0.0  0.0  ...    0.0    0.0    0.0   \n",
       "1  0.0  0.0  0.0  0.0  0.0  0.0  0.0  0.0  0.0  0.0  ...    0.0    0.0    0.0   \n",
       "2  0.0  0.0  0.0  0.0  0.0  0.0  0.0  0.0  0.0  0.0  ...    0.0    0.0    0.0   \n",
       "3  0.0  0.0  0.0  0.0  0.0  0.0  0.0  0.0  0.0  0.0  ...    0.0    0.0    0.0   \n",
       "4  0.0  0.0  0.0  0.0  0.0  0.0  0.0  0.0  0.0  0.0  ...    0.0    0.0    0.0   \n",
       "\n",
       "   d_993  d_994  d_995  d_996  d_997  d_998  d_999  \n",
       "0    0.0    0.0    0.0    0.0    0.0    0.0    0.0  \n",
       "1    0.0    0.0    0.0    0.0    0.0    0.0    0.0  \n",
       "2    0.0    0.0    0.0    0.0    0.0    0.0    0.0  \n",
       "3    0.0    0.0    0.0    0.0    0.0    0.0    0.0  \n",
       "4    0.0    0.0    0.0    0.0    0.0    0.0    0.0  \n",
       "\n",
       "[5 rows x 1000 columns]"
      ]
     },
     "execution_count": 211,
     "metadata": {},
     "output_type": "execute_result"
    }
   ],
   "source": [
    "# OOM! BOOM!\n",
    "# a = pd.DataFrame(X.toarray(), columns= [''.join(i) for i in zip(['w_'] * len(vectorizer.get_feature_names()), vectorizer.get_feature_names())])\n",
    "# words = pd.DataFrame(X2.toarray(), columns= [''.join(i) for i in zip(['a_'] * len(vectorizer2.get_feature_names()), vectorizer2.get_feature_names())])\n",
    "\n",
    "# Instead lets merge vectors into 1000 \"macrovectors\"\n",
    "NUM_MACROVECTORS = 1000\n",
    "step = X2.shape[1] // NUM_MACROVECTORS\n",
    "x = X2.toarray()\n",
    "res = np.empty((X2.shape[0], NUM_MACROVECTORS))\n",
    "for i in range(NUM_MACROVECTORS):   \n",
    "    if i < NUM_MACROVECTORS - 1:\n",
    "        res[:,i] = np.sum(x[:, i * step: (i + 1) * step], axis=1)\n",
    "    else:\n",
    "        res[:,i] = np.sum(x[:, i * step:], axis=1)\n",
    "print(res.shape)\n",
    "words = pd.DataFrame(res, columns= [''.join(i) for i in zip(['d_'] * NUM_MACROVECTORS, [str(j) for j in range(NUM_MACROVECTORS)])])\n",
    "words.head()"
   ]
  },
  {
   "cell_type": "code",
   "execution_count": 212,
   "metadata": {},
   "outputs": [],
   "source": [
    "DISCRIPTION_EFFECT= 0.2\n",
    "test = pd.concat([sub, words * DISCRIPTION_EFFECT], axis=1)\n",
    "unwanted = test.columns[test.columns.str.startswith('Unnamed')]\n",
    "test = test.drop(unwanted, axis=1)\n",
    "test = test.drop(['desc_tokenized','actor_tokenized', 'weighted_average_vote'], axis=1)\n",
    "arr = test.drop(['imdb_name_id','imdb_title_id','title'], axis=1)"
   ]
  },
  {
   "cell_type": "code",
   "execution_count": 213,
   "metadata": {},
   "outputs": [
    {
     "data": {
      "text/html": [
       "<div>\n",
       "<style scoped>\n",
       "    .dataframe tbody tr th:only-of-type {\n",
       "        vertical-align: middle;\n",
       "    }\n",
       "\n",
       "    .dataframe tbody tr th {\n",
       "        vertical-align: top;\n",
       "    }\n",
       "\n",
       "    .dataframe thead th {\n",
       "        text-align: right;\n",
       "    }\n",
       "</style>\n",
       "<table border=\"1\" class=\"dataframe\">\n",
       "  <thead>\n",
       "    <tr style=\"text-align: right;\">\n",
       "      <th></th>\n",
       "      <th>Action</th>\n",
       "      <th>Adventure</th>\n",
       "      <th>Animation</th>\n",
       "      <th>Biography</th>\n",
       "      <th>Comedy</th>\n",
       "      <th>Crime</th>\n",
       "      <th>Drama</th>\n",
       "      <th>Family</th>\n",
       "      <th>Fantasy</th>\n",
       "      <th>Film-Noir</th>\n",
       "      <th>...</th>\n",
       "      <th>d_990</th>\n",
       "      <th>d_991</th>\n",
       "      <th>d_992</th>\n",
       "      <th>d_993</th>\n",
       "      <th>d_994</th>\n",
       "      <th>d_995</th>\n",
       "      <th>d_996</th>\n",
       "      <th>d_997</th>\n",
       "      <th>d_998</th>\n",
       "      <th>d_999</th>\n",
       "    </tr>\n",
       "  </thead>\n",
       "  <tbody>\n",
       "    <tr>\n",
       "      <th>0</th>\n",
       "      <td>0</td>\n",
       "      <td>0</td>\n",
       "      <td>0</td>\n",
       "      <td>0</td>\n",
       "      <td>0</td>\n",
       "      <td>0</td>\n",
       "      <td>0</td>\n",
       "      <td>0</td>\n",
       "      <td>0</td>\n",
       "      <td>0</td>\n",
       "      <td>...</td>\n",
       "      <td>0.0</td>\n",
       "      <td>0.0</td>\n",
       "      <td>0.0</td>\n",
       "      <td>0.0</td>\n",
       "      <td>0.0</td>\n",
       "      <td>0.0</td>\n",
       "      <td>0.0</td>\n",
       "      <td>0.0</td>\n",
       "      <td>0.0</td>\n",
       "      <td>0.0</td>\n",
       "    </tr>\n",
       "    <tr>\n",
       "      <th>1</th>\n",
       "      <td>0</td>\n",
       "      <td>0</td>\n",
       "      <td>0</td>\n",
       "      <td>0</td>\n",
       "      <td>0</td>\n",
       "      <td>1</td>\n",
       "      <td>1</td>\n",
       "      <td>0</td>\n",
       "      <td>0</td>\n",
       "      <td>0</td>\n",
       "      <td>...</td>\n",
       "      <td>0.0</td>\n",
       "      <td>0.0</td>\n",
       "      <td>0.0</td>\n",
       "      <td>0.0</td>\n",
       "      <td>0.0</td>\n",
       "      <td>0.0</td>\n",
       "      <td>0.0</td>\n",
       "      <td>0.0</td>\n",
       "      <td>0.0</td>\n",
       "      <td>0.0</td>\n",
       "    </tr>\n",
       "    <tr>\n",
       "      <th>2</th>\n",
       "      <td>0</td>\n",
       "      <td>0</td>\n",
       "      <td>0</td>\n",
       "      <td>0</td>\n",
       "      <td>0</td>\n",
       "      <td>0</td>\n",
       "      <td>0</td>\n",
       "      <td>0</td>\n",
       "      <td>0</td>\n",
       "      <td>0</td>\n",
       "      <td>...</td>\n",
       "      <td>0.0</td>\n",
       "      <td>0.0</td>\n",
       "      <td>0.0</td>\n",
       "      <td>0.0</td>\n",
       "      <td>0.0</td>\n",
       "      <td>0.0</td>\n",
       "      <td>0.0</td>\n",
       "      <td>0.0</td>\n",
       "      <td>0.0</td>\n",
       "      <td>0.0</td>\n",
       "    </tr>\n",
       "    <tr>\n",
       "      <th>3</th>\n",
       "      <td>0</td>\n",
       "      <td>0</td>\n",
       "      <td>0</td>\n",
       "      <td>0</td>\n",
       "      <td>0</td>\n",
       "      <td>0</td>\n",
       "      <td>0</td>\n",
       "      <td>0</td>\n",
       "      <td>0</td>\n",
       "      <td>0</td>\n",
       "      <td>...</td>\n",
       "      <td>0.0</td>\n",
       "      <td>0.0</td>\n",
       "      <td>0.0</td>\n",
       "      <td>0.0</td>\n",
       "      <td>0.0</td>\n",
       "      <td>0.0</td>\n",
       "      <td>0.0</td>\n",
       "      <td>0.0</td>\n",
       "      <td>0.0</td>\n",
       "      <td>0.0</td>\n",
       "    </tr>\n",
       "    <tr>\n",
       "      <th>4</th>\n",
       "      <td>0</td>\n",
       "      <td>0</td>\n",
       "      <td>0</td>\n",
       "      <td>0</td>\n",
       "      <td>0</td>\n",
       "      <td>0</td>\n",
       "      <td>1</td>\n",
       "      <td>0</td>\n",
       "      <td>1</td>\n",
       "      <td>0</td>\n",
       "      <td>...</td>\n",
       "      <td>0.0</td>\n",
       "      <td>0.0</td>\n",
       "      <td>0.0</td>\n",
       "      <td>0.0</td>\n",
       "      <td>0.0</td>\n",
       "      <td>0.0</td>\n",
       "      <td>0.0</td>\n",
       "      <td>0.0</td>\n",
       "      <td>0.0</td>\n",
       "      <td>0.0</td>\n",
       "    </tr>\n",
       "  </tbody>\n",
       "</table>\n",
       "<p>5 rows × 1046 columns</p>\n",
       "</div>"
      ],
      "text/plain": [
       "    Action   Adventure   Animation   Biography   Comedy   Crime   Drama  \\\n",
       "0        0           0           0           0        0       0       0   \n",
       "1        0           0           0           0        0       1       1   \n",
       "2        0           0           0           0        0       0       0   \n",
       "3        0           0           0           0        0       0       0   \n",
       "4        0           0           0           0        0       0       1   \n",
       "\n",
       "    Family   Fantasy   Film-Noir  ...  d_990  d_991  d_992  d_993  d_994  \\\n",
       "0        0         0           0  ...    0.0    0.0    0.0    0.0    0.0   \n",
       "1        0         0           0  ...    0.0    0.0    0.0    0.0    0.0   \n",
       "2        0         0           0  ...    0.0    0.0    0.0    0.0    0.0   \n",
       "3        0         0           0  ...    0.0    0.0    0.0    0.0    0.0   \n",
       "4        0         1           0  ...    0.0    0.0    0.0    0.0    0.0   \n",
       "\n",
       "   d_995  d_996  d_997  d_998  d_999  \n",
       "0    0.0    0.0    0.0    0.0    0.0  \n",
       "1    0.0    0.0    0.0    0.0    0.0  \n",
       "2    0.0    0.0    0.0    0.0    0.0  \n",
       "3    0.0    0.0    0.0    0.0    0.0  \n",
       "4    0.0    0.0    0.0    0.0    0.0  \n",
       "\n",
       "[5 rows x 1046 columns]"
      ]
     },
     "execution_count": 213,
     "metadata": {},
     "output_type": "execute_result"
    }
   ],
   "source": [
    "arr.head()\n",
    "arr.to_csv('compressedvectors.csv')"
   ]
  },
  {
   "cell_type": "code",
   "execution_count": 216,
   "metadata": {},
   "outputs": [
    {
     "data": {
      "text/plain": [
       "(array([ 0,  1,  2,  3,  4,  5,  6,  7,  8,  9, 10, 11, 12, 13, 14, 15, 16,\n",
       "        17, 18, 19, 20, 21, 22, 23, 24, 25, 26, 27, 28, 29, 30, 31, 32, 33,\n",
       "        34, 35, 36, 37, 38, 39, 40, 41, 42, 43, 44, 45, 46, 47, 48, 49, 50,\n",
       "        51, 52, 53, 54, 55, 56, 57, 58, 59, 60, 61, 62, 63, 64, 65, 66, 67,\n",
       "        68, 69, 70, 71, 72, 73, 74, 75, 76, 77, 78, 79, 80, 81, 82, 83, 84,\n",
       "        85, 86, 87, 88, 89, 90, 91, 92, 93, 94, 95, 96, 97, 98, 99]),\n",
       " array([ 1643,   333,  1133, 13543,   763,  4109,   450,  2413,  1343,\n",
       "         1452,  2952,  5276,   943,    50,   932,    59,   358,  1374,\n",
       "          719,  1284,  2506,   483,  2273,   865,    70,   398,   397,\n",
       "          281,   733,     1,   770,  1247,   629,   692,    12,   102,\n",
       "            2,     1,   315,    18,     2,   396,   607,   110,   131,\n",
       "          478,   420,  1878,  1143,   305,   467,   201,    96,   590,\n",
       "           79,     1,   508,   276,   298,     1,   160,   601,   400,\n",
       "          216,   118,   225,   364,   801,   513,   119,     1,   625,\n",
       "            1,    45,   596,   549,  8688,    72,     1,   154,   120,\n",
       "           29,  1559,   554,   267,   404,   590,   942,   558,   376,\n",
       "            2,   401,     1,   336,   197,    72,    31,     1,   102,\n",
       "          384], dtype=int64))"
      ]
     },
     "execution_count": 216,
     "metadata": {},
     "output_type": "execute_result"
    }
   ],
   "source": [
    "kmeans = MiniBatchKMeans(n_clusters=N_CLUSTERS, random_state=0).fit(arr)\n",
    "np.unique(kmeans.labels_, return_counts=True)"
   ]
  },
  {
   "cell_type": "code",
   "execution_count": 217,
   "metadata": {},
   "outputs": [
    {
     "data": {
      "text/plain": [
       "array([28, 17,  3, ...,  3, 74,  3])"
      ]
     },
     "execution_count": 217,
     "metadata": {},
     "output_type": "execute_result"
    }
   ],
   "source": [
    "kmeans.labels_"
   ]
  },
  {
   "cell_type": "code",
   "execution_count": 220,
   "metadata": {},
   "outputs": [],
   "source": [
    "sub2 = pd.concat([sub, pd.Series(kmeans.labels_, name='kmeans')], axis=1)\n",
    "sub2.to_csv('all_categories.csv')\n",
    "for i in range(N_CLUSTERS):\n",
    "    t = sub2[sub2['kmeans']==i]\n",
    "    t.to_csv(str(i)+'.csv')"
   ]
  },
  {
   "cell_type": "code",
   "execution_count": 221,
   "metadata": {},
   "outputs": [
    {
     "data": {
      "text/html": [
       "<div>\n",
       "<style scoped>\n",
       "    .dataframe tbody tr th:only-of-type {\n",
       "        vertical-align: middle;\n",
       "    }\n",
       "\n",
       "    .dataframe tbody tr th {\n",
       "        vertical-align: top;\n",
       "    }\n",
       "\n",
       "    .dataframe thead th {\n",
       "        text-align: right;\n",
       "    }\n",
       "</style>\n",
       "<table border=\"1\" class=\"dataframe\">\n",
       "  <thead>\n",
       "    <tr style=\"text-align: right;\">\n",
       "      <th></th>\n",
       "      <th>imdb_name_id</th>\n",
       "      <th>title</th>\n",
       "      <th>weighted_average_vote</th>\n",
       "      <th>Action</th>\n",
       "      <th>Adventure</th>\n",
       "      <th>Animation</th>\n",
       "      <th>Biography</th>\n",
       "      <th>Comedy</th>\n",
       "      <th>Crime</th>\n",
       "      <th>Drama</th>\n",
       "      <th>...</th>\n",
       "      <th>Mystery</th>\n",
       "      <th>Romance</th>\n",
       "      <th>Sci-Fi</th>\n",
       "      <th>Sport</th>\n",
       "      <th>Thriller</th>\n",
       "      <th>War</th>\n",
       "      <th>Western</th>\n",
       "      <th>desc_tokenized</th>\n",
       "      <th>actor_tokenized</th>\n",
       "      <th>kmeans</th>\n",
       "    </tr>\n",
       "    <tr>\n",
       "      <th>imdb_title_id</th>\n",
       "      <th></th>\n",
       "      <th></th>\n",
       "      <th></th>\n",
       "      <th></th>\n",
       "      <th></th>\n",
       "      <th></th>\n",
       "      <th></th>\n",
       "      <th></th>\n",
       "      <th></th>\n",
       "      <th></th>\n",
       "      <th></th>\n",
       "      <th></th>\n",
       "      <th></th>\n",
       "      <th></th>\n",
       "      <th></th>\n",
       "      <th></th>\n",
       "      <th></th>\n",
       "      <th></th>\n",
       "      <th></th>\n",
       "      <th></th>\n",
       "      <th></th>\n",
       "    </tr>\n",
       "  </thead>\n",
       "  <tbody>\n",
       "    <tr>\n",
       "      <th>tt0000009</th>\n",
       "      <td>nm0063086</td>\n",
       "      <td>Miss Jerry</td>\n",
       "      <td>5.9</td>\n",
       "      <td>0</td>\n",
       "      <td>0</td>\n",
       "      <td>0</td>\n",
       "      <td>0</td>\n",
       "      <td>0</td>\n",
       "      <td>0</td>\n",
       "      <td>0</td>\n",
       "      <td>...</td>\n",
       "      <td>0</td>\n",
       "      <td>1</td>\n",
       "      <td>0</td>\n",
       "      <td>0</td>\n",
       "      <td>0</td>\n",
       "      <td>0</td>\n",
       "      <td>0</td>\n",
       "      <td>['adventur', 'femal', 'report']</td>\n",
       "      <td>['blanchebayliss', 'williamcourtenay', 'chaunc...</td>\n",
       "      <td>28</td>\n",
       "    </tr>\n",
       "    <tr>\n",
       "      <th>tt0000574</th>\n",
       "      <td>nm0170118</td>\n",
       "      <td>The Story of the Kelly Gang</td>\n",
       "      <td>6.1</td>\n",
       "      <td>0</td>\n",
       "      <td>0</td>\n",
       "      <td>0</td>\n",
       "      <td>0</td>\n",
       "      <td>0</td>\n",
       "      <td>1</td>\n",
       "      <td>1</td>\n",
       "      <td>...</td>\n",
       "      <td>0</td>\n",
       "      <td>0</td>\n",
       "      <td>0</td>\n",
       "      <td>0</td>\n",
       "      <td>0</td>\n",
       "      <td>0</td>\n",
       "      <td>0</td>\n",
       "      <td>['true', 'stori', 'notori', 'australian', 'out...</td>\n",
       "      <td>['elizabethtait', 'johntait', 'normancampbel',...</td>\n",
       "      <td>17</td>\n",
       "    </tr>\n",
       "    <tr>\n",
       "      <th>tt0001892</th>\n",
       "      <td>nm0003425</td>\n",
       "      <td>Den sorte drøm</td>\n",
       "      <td>5.8</td>\n",
       "      <td>0</td>\n",
       "      <td>0</td>\n",
       "      <td>0</td>\n",
       "      <td>0</td>\n",
       "      <td>0</td>\n",
       "      <td>0</td>\n",
       "      <td>0</td>\n",
       "      <td>...</td>\n",
       "      <td>0</td>\n",
       "      <td>0</td>\n",
       "      <td>0</td>\n",
       "      <td>0</td>\n",
       "      <td>0</td>\n",
       "      <td>0</td>\n",
       "      <td>0</td>\n",
       "      <td>['two', 'men', 'high', 'rank', 'woo', 'beauti'...</td>\n",
       "      <td>['astanielsen', 'valdemarpsiland', 'gunnarhels...</td>\n",
       "      <td>3</td>\n",
       "    </tr>\n",
       "    <tr>\n",
       "      <th>tt0002101</th>\n",
       "      <td>nm0182557</td>\n",
       "      <td>Cleopatra</td>\n",
       "      <td>5.2</td>\n",
       "      <td>0</td>\n",
       "      <td>0</td>\n",
       "      <td>0</td>\n",
       "      <td>0</td>\n",
       "      <td>0</td>\n",
       "      <td>0</td>\n",
       "      <td>0</td>\n",
       "      <td>...</td>\n",
       "      <td>0</td>\n",
       "      <td>0</td>\n",
       "      <td>0</td>\n",
       "      <td>0</td>\n",
       "      <td>0</td>\n",
       "      <td>0</td>\n",
       "      <td>0</td>\n",
       "      <td>['fabl', 'queen', 'egypt', \"'s\", 'affair', 'ro...</td>\n",
       "      <td>['helengardn', 'pearlsindelar', 'missfield', '...</td>\n",
       "      <td>33</td>\n",
       "    </tr>\n",
       "    <tr>\n",
       "      <th>tt0002130</th>\n",
       "      <td>nm0019604</td>\n",
       "      <td>L'Inferno</td>\n",
       "      <td>7.0</td>\n",
       "      <td>0</td>\n",
       "      <td>0</td>\n",
       "      <td>0</td>\n",
       "      <td>0</td>\n",
       "      <td>0</td>\n",
       "      <td>0</td>\n",
       "      <td>1</td>\n",
       "      <td>...</td>\n",
       "      <td>0</td>\n",
       "      <td>0</td>\n",
       "      <td>0</td>\n",
       "      <td>0</td>\n",
       "      <td>0</td>\n",
       "      <td>0</td>\n",
       "      <td>0</td>\n",
       "      <td>['loos', 'adapt', 'dant', \"'s\", 'divin', 'come...</td>\n",
       "      <td>['salvatorepapa', 'arturopirovano', 'giusepped...</td>\n",
       "      <td>87</td>\n",
       "    </tr>\n",
       "  </tbody>\n",
       "</table>\n",
       "<p>5 rows × 52 columns</p>\n",
       "</div>"
      ],
      "text/plain": [
       "              imdb_name_id                        title  \\\n",
       "imdb_title_id                                             \n",
       "tt0000009        nm0063086                   Miss Jerry   \n",
       "tt0000574        nm0170118  The Story of the Kelly Gang   \n",
       "tt0001892        nm0003425               Den sorte drøm   \n",
       "tt0002101        nm0182557                    Cleopatra   \n",
       "tt0002130        nm0019604                    L'Inferno   \n",
       "\n",
       "               weighted_average_vote   Action   Adventure   Animation  \\\n",
       "imdb_title_id                                                           \n",
       "tt0000009                        5.9        0           0           0   \n",
       "tt0000574                        6.1        0           0           0   \n",
       "tt0001892                        5.8        0           0           0   \n",
       "tt0002101                        5.2        0           0           0   \n",
       "tt0002130                        7.0        0           0           0   \n",
       "\n",
       "                Biography   Comedy   Crime   Drama  ...  Mystery  Romance  \\\n",
       "imdb_title_id                                       ...                     \n",
       "tt0000009               0        0       0       0  ...        0        1   \n",
       "tt0000574               0        0       1       1  ...        0        0   \n",
       "tt0001892               0        0       0       0  ...        0        0   \n",
       "tt0002101               0        0       0       0  ...        0        0   \n",
       "tt0002130               0        0       0       1  ...        0        0   \n",
       "\n",
       "               Sci-Fi  Sport  Thriller  War  Western  \\\n",
       "imdb_title_id                                          \n",
       "tt0000009           0      0         0    0        0   \n",
       "tt0000574           0      0         0    0        0   \n",
       "tt0001892           0      0         0    0        0   \n",
       "tt0002101           0      0         0    0        0   \n",
       "tt0002130           0      0         0    0        0   \n",
       "\n",
       "                                                  desc_tokenized  \\\n",
       "imdb_title_id                                                      \n",
       "tt0000009                        ['adventur', 'femal', 'report']   \n",
       "tt0000574      ['true', 'stori', 'notori', 'australian', 'out...   \n",
       "tt0001892      ['two', 'men', 'high', 'rank', 'woo', 'beauti'...   \n",
       "tt0002101      ['fabl', 'queen', 'egypt', \"'s\", 'affair', 'ro...   \n",
       "tt0002130      ['loos', 'adapt', 'dant', \"'s\", 'divin', 'come...   \n",
       "\n",
       "                                                 actor_tokenized  kmeans  \n",
       "imdb_title_id                                                             \n",
       "tt0000009      ['blanchebayliss', 'williamcourtenay', 'chaunc...      28  \n",
       "tt0000574      ['elizabethtait', 'johntait', 'normancampbel',...      17  \n",
       "tt0001892      ['astanielsen', 'valdemarpsiland', 'gunnarhels...       3  \n",
       "tt0002101      ['helengardn', 'pearlsindelar', 'missfield', '...      33  \n",
       "tt0002130      ['salvatorepapa', 'arturopirovano', 'giusepped...      87  \n",
       "\n",
       "[5 rows x 52 columns]"
      ]
     },
     "execution_count": 221,
     "metadata": {},
     "output_type": "execute_result"
    }
   ],
   "source": [
    "unwanted = sub2.columns[sub2.columns.str.startswith('Unnamed')]\n",
    "sub2 = sub2.drop(unwanted, axis=1)\n",
    "sub2 = sub2.set_index('imdb_title_id')\n",
    "sub2.head()"
   ]
  },
  {
   "cell_type": "code",
   "execution_count": 222,
   "metadata": {},
   "outputs": [
    {
     "data": {
      "text/plain": [
       "28"
      ]
     },
     "execution_count": 222,
     "metadata": {},
     "output_type": "execute_result"
    }
   ],
   "source": [
    "sub2.loc['tt0000009']['kmeans']"
   ]
  },
  {
   "cell_type": "code",
   "execution_count": 223,
   "metadata": {},
   "outputs": [],
   "source": [
    "import csv\n",
    "import urllib.parse\n",
    "import urllib.request\n",
    "import requests\n",
    "import re\n",
    "from bs4 import BeautifulSoup\n",
    "import IPython.display as Disp\n",
    "from tqdm import tqdm\n",
    "import IPython.display as displ\n",
    "\n",
    "def display(image_url, info=None): \n",
    "    if isinstance(image_url, str):\n",
    "        image_url = [image_url]\n",
    "    print('------------------------------------------------------')\n",
    "    for index, i in enumerate(image_url):\n",
    "        print('Result '+str(index) + \":\")\n",
    "        if info is None:\n",
    "            info = image_url\n",
    "        print(info[index])\n",
    "        displ.display(displ.Image(url=i))\n",
    "        print('------------------------------------------------------')\n",
    "\n",
    "def get_poster_id(movie_title, exact=False, num_of_results=-1):\n",
    "    flag = False\n",
    "    if num_of_results == -1:\n",
    "        flag = True\n",
    "        num_of_results = 1\n",
    "    domain = 'http://www.imdb.com'\n",
    "    t = ''\n",
    "    if exact:\n",
    "        t = '&exact=true'\n",
    "    search_url = domain + '/find?s=tt' + '&q=' + urllib.parse.quote_plus(movie_title)\n",
    "    with urllib.request.urlopen(search_url) as response:\n",
    "        html = response.read()\n",
    "        soup = BeautifulSoup(html, 'html.parser')\n",
    "        # Get url of 1st search result\n",
    "        try:\n",
    "            tables = soup.find('table', class_='findList').find_all('tr')[:num_of_results]\n",
    "            movie_id = []\n",
    "            for i in (tables):\n",
    "                title = i.a['href']\n",
    "                movie_id.append(title[title.rfind('/',0, title.rfind('/'))+1:-1])                   \n",
    "        # Ignore cases where search returns no results\n",
    "        except AttributeError:\n",
    "            print('No search results.')  \n",
    "            return '' if flag else ['']\n",
    "    return movie_id[0] if flag else movie_id\n",
    "\n",
    "def get_poster(movie_title, size=-1, exact=False, num_of_results=-1):\n",
    "    flag = False\n",
    "    if num_of_results == -1:\n",
    "        flag = True\n",
    "        num_of_results = 1\n",
    "    domain = 'http://www.imdb.com'\n",
    "    t = ''\n",
    "    if exact:\n",
    "        t = '&exact=true'\n",
    "    search_url = domain + '/find?s=tt' + '&q=' + urllib.parse.quote_plus(movie_title)\n",
    "    with urllib.request.urlopen(search_url) as response:\n",
    "        html = response.read()\n",
    "        soup = BeautifulSoup(html, 'html.parser')\n",
    "        # Get url of 1st search result\n",
    "        try:\n",
    "            tables = soup.find('table', class_='findList').find_all('tr')[:num_of_results]\n",
    "            images = []\n",
    "            for i in (tables):\n",
    "                image_url = i.img['src']\n",
    "                if size==-1:\n",
    "                    image_url = re.sub(r'(?<=._V1).*(?=\\.jpg)','', image_url)\n",
    "                else:\n",
    "                    image_url = re.sub(r'(?<=._V1).*(?=\\.jpg)','_UX' + str(size), image_url)\n",
    "                images.append(image_url)                   \n",
    "        # Ignore cases where search returns no results\n",
    "        except AttributeError:\n",
    "            print('No search results.')  \n",
    "            return '' if flag else ['']\n",
    "    return images[0] if flag else images\n",
    "\n",
    "def get_poster_from_ids(movie_ids, size=-1):\n",
    "    flag = False\n",
    "    if isinstance(movie_ids, int):\n",
    "        movie_ids = ['tt' + str(movie_ids)]\n",
    "    elif isinstance(movie_ids, str):\n",
    "        movie_ids = [movie_ids]\n",
    "    elif isinstance(movie_ids, list):\n",
    "        movie_ids = ['tt' + str(i) if isinstance(i, int) else i for i in movie_ids]\n",
    "        flag = True\n",
    "    res = []\n",
    "    for movie_id in tqdm(movie_ids):\n",
    "        movie_url = 'http://m.imdb.com/title/' + movie_id \n",
    "        with urllib.request.urlopen(movie_url) as response:\n",
    "            html = response.read()\n",
    "            soup = BeautifulSoup(html, 'html.parser')\n",
    "            try:\n",
    "                image_url = soup.find('div', class_='media titlemain__overview-media--mobile').a.img['src']\n",
    "            except AttributeError:\n",
    "                print('No poster for ' + movie_id)\n",
    "                res.append('')\n",
    "        if size==-1: \n",
    "            image_url = re.sub(r'(?<=._V1).*(?=\\.jpg)','', image_url)\n",
    "        else:\n",
    "            image_url = re.sub(r'(?<=._V1).*(?=\\.jpg)','_UX' + str(size), image_url)\n",
    "        res.append(image_url)\n",
    "    return res if flag else res[0]\n"
   ]
  },
  {
   "cell_type": "code",
   "execution_count": 231,
   "metadata": {},
   "outputs": [],
   "source": [
    "def get_poster_id_interactive():\n",
    "    movie_title = input('Please enter the name of the movie:').strip()\n",
    "    ids = get_poster_id(movie_title, exact=False, num_of_results=5)\n",
    "    display(get_poster(movie_title, size=100, exact=True, num_of_results=5))\n",
    "    print()\n",
    "    x = input('Please choose the movie you want:').strip()\n",
    "    if x == '':\n",
    "        x = 0\n",
    "    else:\n",
    "        x = int(x)\n",
    "    id = ids[x]\n",
    "    try:\n",
    "        cat = sub2.loc[id]['kmeans']\n",
    "    except Exception:\n",
    "        print('It seems that it is a new movie. It is not in our local dataset.')\n",
    "        return\n",
    "    print('You choose {0}, which is in category {1}'.format(id, cat))\n",
    "    others = sub2[sub2['kmeans']==cat].drop(id).sort_values(by='weighted_average_vote', ascending=False)[:10]\n",
    "    ids = list(others.index)\n",
    "    names = list(others['title'])\n",
    "    print('You may also like:')\n",
    "    display(get_poster_from_ids(ids, size=100), names)"
   ]
  },
  {
   "cell_type": "code",
   "execution_count": 235,
   "metadata": {},
   "outputs": [
    {
     "name": "stdout",
     "output_type": "stream",
     "text": [
      "Please enter the name of the movie:inception\n",
      "------------------------------------------------------\n",
      "Result 0:\n",
      "https://m.media-amazon.com/images/M/MV5BMjAxMzY3NjcxNF5BMl5BanBnXkFtZTcwNTI5OTM0Mw@@._V1_UX100.jpg\n"
     ]
    },
    {
     "data": {
      "text/html": [
       "<img src=\"https://m.media-amazon.com/images/M/MV5BMjAxMzY3NjcxNF5BMl5BanBnXkFtZTcwNTI5OTM0Mw@@._V1_UX100.jpg\"/>"
      ],
      "text/plain": [
       "<IPython.core.display.Image object>"
      ]
     },
     "metadata": {},
     "output_type": "display_data"
    },
    {
     "name": "stdout",
     "output_type": "stream",
     "text": [
      "------------------------------------------------------\n",
      "Result 1:\n",
      "https://m.media-amazon.com/images/M/MV5BYWJmYWJmNWMtZTBmNy00M2MzLTg5ZWEtOGU5ZWRiYTE0ZjVmXkEyXkFqcGdeQXVyNzkyOTM2MjE@._V1_UX100.jpg\n"
     ]
    },
    {
     "data": {
      "text/html": [
       "<img src=\"https://m.media-amazon.com/images/M/MV5BYWJmYWJmNWMtZTBmNy00M2MzLTg5ZWEtOGU5ZWRiYTE0ZjVmXkEyXkFqcGdeQXVyNzkyOTM2MjE@._V1_UX100.jpg\"/>"
      ],
      "text/plain": [
       "<IPython.core.display.Image object>"
      ]
     },
     "metadata": {},
     "output_type": "display_data"
    },
    {
     "name": "stdout",
     "output_type": "stream",
     "text": [
      "------------------------------------------------------\n",
      "Result 2:\n",
      "https://m.media-amazon.com/images/S/sash/85lhIiFCmSScRzu.png\n"
     ]
    },
    {
     "data": {
      "text/html": [
       "<img src=\"https://m.media-amazon.com/images/S/sash/85lhIiFCmSScRzu.png\"/>"
      ],
      "text/plain": [
       "<IPython.core.display.Image object>"
      ]
     },
     "metadata": {},
     "output_type": "display_data"
    },
    {
     "name": "stdout",
     "output_type": "stream",
     "text": [
      "------------------------------------------------------\n",
      "Result 3:\n",
      "https://m.media-amazon.com/images/M/MV5BMjE0NGIwM2EtZjQxZi00ZTE5LWExN2MtNDBlMjY1ZmZkYjU3XkEyXkFqcGdeQXVyNjMwNzk3Mjk@._V1_UX100.jpg\n"
     ]
    },
    {
     "data": {
      "text/html": [
       "<img src=\"https://m.media-amazon.com/images/M/MV5BMjE0NGIwM2EtZjQxZi00ZTE5LWExN2MtNDBlMjY1ZmZkYjU3XkEyXkFqcGdeQXVyNjMwNzk3Mjk@._V1_UX100.jpg\"/>"
      ],
      "text/plain": [
       "<IPython.core.display.Image object>"
      ]
     },
     "metadata": {},
     "output_type": "display_data"
    },
    {
     "name": "stdout",
     "output_type": "stream",
     "text": [
      "------------------------------------------------------\n",
      "Result 4:\n",
      "https://m.media-amazon.com/images/M/MV5BZGFjOTRiYjgtYjEzMS00ZjQ2LTkzY2YtOGQ0NDI2NTVjOGFmXkEyXkFqcGdeQXVyNDQ5MDYzMTk@._V1_UX100.jpg\n"
     ]
    },
    {
     "data": {
      "text/html": [
       "<img src=\"https://m.media-amazon.com/images/M/MV5BZGFjOTRiYjgtYjEzMS00ZjQ2LTkzY2YtOGQ0NDI2NTVjOGFmXkEyXkFqcGdeQXVyNDQ5MDYzMTk@._V1_UX100.jpg\"/>"
      ],
      "text/plain": [
       "<IPython.core.display.Image object>"
      ]
     },
     "metadata": {},
     "output_type": "display_data"
    },
    {
     "name": "stdout",
     "output_type": "stream",
     "text": [
      "------------------------------------------------------\n",
      "\n",
      "Please choose the movie you want:0\n"
     ]
    },
    {
     "name": "stderr",
     "output_type": "stream",
     "text": [
      "\r",
      "  0%|                                                                                           | 0/10 [00:00<?, ?it/s]"
     ]
    },
    {
     "name": "stdout",
     "output_type": "stream",
     "text": [
      "You choose tt1375666, which is in category 32\n",
      "You may also like:\n"
     ]
    },
    {
     "name": "stderr",
     "output_type": "stream",
     "text": [
      "100%|██████████████████████████████████████████████████████████████████████████████████| 10/10 [00:07<00:00,  1.31it/s]"
     ]
    },
    {
     "name": "stdout",
     "output_type": "stream",
     "text": [
      "------------------------------------------------------\n",
      "Result 0:\n",
      "Matrix\n"
     ]
    },
    {
     "name": "stderr",
     "output_type": "stream",
     "text": [
      "\n"
     ]
    },
    {
     "data": {
      "text/html": [
       "<img src=\"https://m.media-amazon.com/images/M/MV5BNzQzOTk3OTAtNDQ0Zi00ZTVkLWI0MTEtMDllZjNkYzNjNTc4L2ltYWdlXkEyXkFqcGdeQXVyNjU0OTQ0OTY@._V1_UX100.jpg\"/>"
      ],
      "text/plain": [
       "<IPython.core.display.Image object>"
      ]
     },
     "metadata": {},
     "output_type": "display_data"
    },
    {
     "name": "stdout",
     "output_type": "stream",
     "text": [
      "------------------------------------------------------\n",
      "Result 1:\n",
      "Terminator 2 - Il giorno del giudizio\n"
     ]
    },
    {
     "data": {
      "text/html": [
       "<img src=\"https://m.media-amazon.com/images/M/MV5BMGU2NzRmZjUtOGUxYS00ZjdjLWEwZWItY2NlM2JhNjkxNTFmXkEyXkFqcGdeQXVyNjU0OTQ0OTY@._V1_UX100.jpg\"/>"
      ],
      "text/plain": [
       "<IPython.core.display.Image object>"
      ]
     },
     "metadata": {},
     "output_type": "display_data"
    },
    {
     "name": "stdout",
     "output_type": "stream",
     "text": [
      "------------------------------------------------------\n",
      "Result 2:\n",
      "Avengers: Infinity War\n"
     ]
    },
    {
     "data": {
      "text/html": [
       "<img src=\"https://m.media-amazon.com/images/M/MV5BMjMxNjY2MDU1OV5BMl5BanBnXkFtZTgwNzY1MTUwNTM@._V1_UX100.jpg\"/>"
      ],
      "text/plain": [
       "<IPython.core.display.Image object>"
      ]
     },
     "metadata": {},
     "output_type": "display_data"
    },
    {
     "name": "stdout",
     "output_type": "stream",
     "text": [
      "------------------------------------------------------\n",
      "Result 3:\n",
      "Aliens - Scontro finale\n"
     ]
    },
    {
     "data": {
      "text/html": [
       "<img src=\"https://m.media-amazon.com/images/M/MV5BZGU2OGY5ZTYtMWNhYy00NjZiLWI0NjUtZmNhY2JhNDRmODU3XkEyXkFqcGdeQXVyNzkwMjQ5NzM@._V1_UX100.jpg\"/>"
      ],
      "text/plain": [
       "<IPython.core.display.Image object>"
      ]
     },
     "metadata": {},
     "output_type": "display_data"
    },
    {
     "name": "stdout",
     "output_type": "stream",
     "text": [
      "------------------------------------------------------\n",
      "Result 4:\n",
      "V per Vendetta\n"
     ]
    },
    {
     "data": {
      "text/html": [
       "<img src=\"https://m.media-amazon.com/images/M/MV5BOTI5ODc3NzExNV5BMl5BanBnXkFtZTcwNzYxNzQzMw@@._V1_UX100.jpg\"/>"
      ],
      "text/plain": [
       "<IPython.core.display.Image object>"
      ]
     },
     "metadata": {},
     "output_type": "display_data"
    },
    {
     "name": "stdout",
     "output_type": "stream",
     "text": [
      "------------------------------------------------------\n",
      "Result 5:\n",
      "Mad Max: Fury Road\n"
     ]
    },
    {
     "data": {
      "text/html": [
       "<img src=\"https://m.media-amazon.com/images/M/MV5BN2EwM2I5OWMtMGQyMi00Zjg1LWJkNTctZTdjYTA4OGUwZjMyXkEyXkFqcGdeQXVyMTMxODk2OTU@._V1_UX100.jpg\"/>"
      ],
      "text/plain": [
       "<IPython.core.display.Image object>"
      ]
     },
     "metadata": {},
     "output_type": "display_data"
    },
    {
     "name": "stdout",
     "output_type": "stream",
     "text": [
      "------------------------------------------------------\n",
      "Result 6:\n",
      "Jurassic Park\n"
     ]
    },
    {
     "data": {
      "text/html": [
       "<img src=\"https://m.media-amazon.com/images/M/MV5BMjM2MDgxMDg0Nl5BMl5BanBnXkFtZTgwNTM2OTM5NDE@._V1_UX100.jpg\"/>"
      ],
      "text/plain": [
       "<IPython.core.display.Image object>"
      ]
     },
     "metadata": {},
     "output_type": "display_data"
    },
    {
     "name": "stdout",
     "output_type": "stream",
     "text": [
      "------------------------------------------------------\n",
      "Result 7:\n",
      "Logan - The Wolverine\n"
     ]
    },
    {
     "data": {
      "text/html": [
       "<img src=\"https://m.media-amazon.com/images/M/MV5BYzc5MTU4N2EtYTkyMi00NjdhLTg3NWEtMTY4OTEyMzJhZTAzXkEyXkFqcGdeQXVyNjc1NTYyMjg@._V1_UX100.jpg\"/>"
      ],
      "text/plain": [
       "<IPython.core.display.Image object>"
      ]
     },
     "metadata": {},
     "output_type": "display_data"
    },
    {
     "name": "stdout",
     "output_type": "stream",
     "text": [
      "------------------------------------------------------\n",
      "Result 8:\n",
      "Terminator\n"
     ]
    },
    {
     "data": {
      "text/html": [
       "<img src=\"https://m.media-amazon.com/images/M/MV5BYTViNzMxZjEtZGEwNy00MDNiLWIzNGQtZDY2MjQ1OWViZjFmXkEyXkFqcGdeQXVyNzkwMjQ5NzM@._V1_UX100.jpg\"/>"
      ],
      "text/plain": [
       "<IPython.core.display.Image object>"
      ]
     },
     "metadata": {},
     "output_type": "display_data"
    },
    {
     "name": "stdout",
     "output_type": "stream",
     "text": [
      "------------------------------------------------------\n",
      "Result 9:\n",
      "The Avengers\n"
     ]
    },
    {
     "data": {
      "text/html": [
       "<img src=\"https://m.media-amazon.com/images/M/MV5BNDYxNjQyMjAtNTdiOS00NGYwLWFmNTAtNThmYjU5ZGI2YTI1XkEyXkFqcGdeQXVyMTMxODk2OTU@._V1_UX100.jpg\"/>"
      ],
      "text/plain": [
       "<IPython.core.display.Image object>"
      ]
     },
     "metadata": {},
     "output_type": "display_data"
    },
    {
     "name": "stdout",
     "output_type": "stream",
     "text": [
      "------------------------------------------------------\n"
     ]
    }
   ],
   "source": [
    "get_poster_id_interactive()"
   ]
  },
  {
   "cell_type": "code",
   "execution_count": null,
   "metadata": {},
   "outputs": [],
   "source": []
  }
 ],
 "metadata": {
  "kernelspec": {
   "display_name": "Python 3",
   "language": "python",
   "name": "python3"
  },
  "language_info": {
   "codemirror_mode": {
    "name": "ipython",
    "version": 3
   },
   "file_extension": ".py",
   "mimetype": "text/x-python",
   "name": "python",
   "nbconvert_exporter": "python",
   "pygments_lexer": "ipython3",
   "version": "3.8.3"
  }
 },
 "nbformat": 4,
 "nbformat_minor": 4
}
